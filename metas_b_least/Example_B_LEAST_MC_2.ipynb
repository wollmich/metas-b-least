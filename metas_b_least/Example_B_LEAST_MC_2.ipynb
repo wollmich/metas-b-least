{
 "cells": [
  {
   "cell_type": "markdown",
   "metadata": {},
   "source": [
    "# Example B LEAST Monte Carlo 2\n",
    "\n",
    "Michael Wollensack METAS - 19.11.2024"
   ]
  },
  {
   "cell_type": "code",
   "execution_count": 1,
   "metadata": {},
   "outputs": [],
   "source": [
    "from metas_b_least import *"
   ]
  },
  {
   "cell_type": "markdown",
   "metadata": {},
   "source": [
    "Calibration and measurement data"
   ]
  },
  {
   "cell_type": "code",
   "execution_count": 2,
   "metadata": {},
   "outputs": [
    {
     "name": "stdout",
     "output_type": "stream",
     "text": [
      "Calibration data:\n",
      "[[1.48272752e-03 9.00375515e-04 6.06278554e+01 3.52662843e+01]\n",
      " [1.88795964e-01 4.51583669e-04 7.78757577e+03 1.35050298e+02]\n",
      " [1.98998087e+00 3.99010360e-03 8.16997970e+04 3.66606632e+01]\n",
      " [3.79566794e+00 3.93571597e-02 1.56198160e+05 2.24094202e+02]\n",
      " [5.67686102e+00 1.25151471e-02 2.33300563e+05 1.37492117e+02]\n",
      " [7.11797217e+00 1.25605066e-02 2.92999793e+05 2.45121175e+02]\n",
      " [9.20993535e+00 1.97872924e-02 3.80601222e+05 1.24247827e+02]\n",
      " [1.09002849e+01 2.45360035e-02 4.49698584e+05 3.18677535e+02]]\n"
     ]
    }
   ],
   "source": [
    "cal_data = b_read_cal_data(os.path.join(data_dir, 'b_least_2_data_cal.txt'))\n",
    "meas_data = b_read_meas_data(os.path.join(data_dir, 'b_least_2_data_meas.txt'))\n",
    "nsamples = 10000\n",
    "cal_samples = b_sample_cal_data_mc(cal_data, nsamples, seed=2)\n",
    "meas_samples = b_sample_meas_data_mc(meas_data, nsamples) \n",
    "b_disp_cal_data_mc(cal_samples)"
   ]
  },
  {
   "cell_type": "markdown",
   "metadata": {},
   "source": [
    "## Linear function"
   ]
  },
  {
   "cell_type": "markdown",
   "metadata": {},
   "source": [
    "Fit coefficients of the fit function using the calibration data"
   ]
  },
  {
   "cell_type": "code",
   "execution_count": 3,
   "metadata": {},
   "outputs": [
    {
     "name": "stdout",
     "output_type": "stream",
     "text": [
      "Coefficients b\n",
      "[3.72125609e-04 2.42844442e-05]\n",
      "Uncertainties u(b)\n",
      "[1.15443671e-03 2.40821017e-08]\n",
      "Covariance cov(b)\n",
      "[[ 1.33272411e-06 -7.41502978e-12]\n",
      " [-7.41502978e-12  5.79947620e-16]]\n",
      "Residual\n",
      "nan\n",
      "Maximum absolute value of weighted deviations\n",
      "nan\n"
     ]
    }
   ],
   "source": [
    "b_samples_1 = b_least_mc(cal_samples, b_linear_func)\n",
    "b_disp_cal_results_mc(b_samples_1)"
   ]
  },
  {
   "cell_type": "markdown",
   "metadata": {},
   "source": [
    "Evaluate the fit function with the coefficients at the measurement data"
   ]
  },
  {
   "cell_type": "code",
   "execution_count": 4,
   "metadata": {},
   "outputs": [
    {
     "name": "stdout",
     "output_type": "stream",
     "text": [
      "Measurement data:\n",
      "[[1.70027440e+00 2.02201236e-03 6.99996371e+04 3.99991628e+01]\n",
      " [8.98565830e+00 9.95987830e-03 3.70001722e+05 2.00553206e+02]]\n",
      "Covariance cov(x)\n",
      "[[4.08853398e-06 1.30383429e-05]\n",
      " [1.30383429e-05 9.91991758e-05]]\n"
     ]
    }
   ],
   "source": [
    "x_samples_1 = b_eval_mc(meas_samples, b_samples_1, b_linear_func)\n",
    "b_disp_meas_results_mc(x_samples_1, meas_samples)"
   ]
  },
  {
   "cell_type": "markdown",
   "metadata": {},
   "source": [
    "## Second order polynomial"
   ]
  },
  {
   "cell_type": "markdown",
   "metadata": {},
   "source": [
    "Fit coefficients of the fit function using the calibration data"
   ]
  },
  {
   "cell_type": "code",
   "execution_count": 5,
   "metadata": {},
   "outputs": [
    {
     "name": "stdout",
     "output_type": "stream",
     "text": [
      "Coefficients b\n",
      "[-1.65162626e-04  2.44006784e-05 -4.07405861e-13]\n",
      "Uncertainties u(b)\n",
      "[1.18405824e-03 5.84896383e-08 1.87059536e-13]\n",
      "Covariance cov(b)\n",
      "[[ 1.40199391e-06 -2.07901700e-11  4.67956547e-17]\n",
      " [-2.07901700e-11  3.42103779e-15 -9.97104558e-21]\n",
      " [ 4.67956547e-17 -9.97104558e-21  3.49912701e-26]]\n",
      "Residual\n",
      "nan\n",
      "Maximum absolute value of weighted deviations\n",
      "nan\n"
     ]
    }
   ],
   "source": [
    "b_samples_2 = b_least_mc(cal_samples, b_second_order_poly)\n",
    "b_disp_cal_results_mc(b_samples_2)"
   ]
  },
  {
   "cell_type": "markdown",
   "metadata": {},
   "source": [
    "Evaluate the fit function with the coefficients at the measurement data"
   ]
  },
  {
   "cell_type": "code",
   "execution_count": 6,
   "metadata": {},
   "outputs": [
    {
     "name": "stdout",
     "output_type": "stream",
     "text": [
      "Measurement data:\n",
      "[[1.70587719e+00 3.26369731e-03 6.99996371e+04 3.99991628e+01]\n",
      " [8.97235357e+00 1.16955194e-02 3.70001722e+05 2.00553206e+02]]\n",
      "Covariance cov(x)\n",
      "[[ 1.06517202e-05 -2.76757997e-06]\n",
      " [-2.76757997e-06  1.36785174e-04]]\n"
     ]
    }
   ],
   "source": [
    "x_samples_2 = b_eval_mc(meas_samples, b_samples_2, b_second_order_poly)\n",
    "b_disp_meas_results_mc(x_samples_2, meas_samples)"
   ]
  }
 ],
 "metadata": {
  "kernelspec": {
   "display_name": "Python 3",
   "language": "python",
   "name": "python3"
  },
  "language_info": {
   "codemirror_mode": {
    "name": "ipython",
    "version": 3
   },
   "file_extension": ".py",
   "mimetype": "text/x-python",
   "name": "python",
   "nbconvert_exporter": "python",
   "pygments_lexer": "ipython3",
   "version": "3.9.13"
  }
 },
 "nbformat": 4,
 "nbformat_minor": 2
}
