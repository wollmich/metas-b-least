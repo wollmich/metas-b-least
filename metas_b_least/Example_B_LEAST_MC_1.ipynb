{
 "cells": [
  {
   "cell_type": "markdown",
   "metadata": {},
   "source": [
    "# Example B LEAST Monte Carlo 1\n",
    "\n",
    "Michael Wollensack METAS - 19.11.2024"
   ]
  },
  {
   "cell_type": "code",
   "execution_count": 1,
   "metadata": {},
   "outputs": [],
   "source": [
    "from metas_b_least import *"
   ]
  },
  {
   "cell_type": "markdown",
   "metadata": {},
   "source": [
    "Calibration and measurement data"
   ]
  },
  {
   "cell_type": "code",
   "execution_count": 2,
   "metadata": {},
   "outputs": [
    {
     "name": "stdout",
     "output_type": "stream",
     "text": [
      "Calibration data:\n",
      "[[4.50043977e+00 4.49453630e-02 1.96937157e-01 3.94268336e-03]\n",
      " [1.87472618e+01 1.86740453e-01 7.87650636e-01 1.57900067e-02]\n",
      " [4.99992112e+01 5.02239036e-01 2.02314094e+00 4.06536301e-02]]\n"
     ]
    }
   ],
   "source": [
    "cal_data = b_read_cal_data(os.path.join(data_dir, 'b_least_1_data_cal.txt'))\n",
    "meas_data = b_read_meas_data(os.path.join(data_dir, 'b_least_1_data_meas.txt'))\n",
    "nsamples = 10000\n",
    "cal_samples = b_sample_cal_data_mc(cal_data, nsamples, seed=1)\n",
    "meas_samples = b_sample_meas_data_mc(meas_data, nsamples) \n",
    "b_disp_cal_data_mc(cal_samples)"
   ]
  },
  {
   "cell_type": "markdown",
   "metadata": {},
   "source": [
    "Fit coefficients of the fit function using the calibration data"
   ]
  },
  {
   "cell_type": "code",
   "execution_count": 3,
   "metadata": {},
   "outputs": [
    {
     "name": "stdout",
     "output_type": "stream",
     "text": [
      "Coefficients b\n",
      "[-0.35797936 24.60929332]\n",
      "Uncertainties u(b)\n",
      "[0.15627383 0.48140356]\n",
      "Covariance cov(b)\n",
      "[[ 0.02442151 -0.05662549]\n",
      " [-0.05662549  0.23174939]]\n",
      "Residual\n",
      "nan\n",
      "Maximum absolute value of weighted deviations\n",
      "nan\n"
     ]
    }
   ],
   "source": [
    "b_samples = b_least_mc(cal_samples, b_linear_func)\n",
    "b_disp_cal_results_mc(b_samples)"
   ]
  },
  {
   "cell_type": "markdown",
   "metadata": {},
   "source": [
    "Evaluate the fit function with the coefficients at the measurement data"
   ]
  },
  {
   "cell_type": "code",
   "execution_count": 4,
   "metadata": {},
   "outputs": [
    {
     "name": "stdout",
     "output_type": "stream",
     "text": [
      "Measurement data:\n",
      "[[5.98929308e+00 1.62858558e-01 2.57922694e-01 5.14825904e-03]\n",
      " [1.44088677e+01 3.54300016e-01 6.00052297e-01 1.18973756e-02]\n",
      " [4.39445255e+01 1.16189336e+00 1.80023298e+00 3.57852386e-02]]\n",
      "Covariance cov(x)\n",
      "[[0.02652291 0.01130903 0.01325308]\n",
      " [0.01130903 0.1255285  0.1390257 ]\n",
      " [0.01325308 0.1390257  1.34999618]]\n"
     ]
    }
   ],
   "source": [
    "x_samples = b_eval_mc(meas_samples, b_samples, b_linear_func)\n",
    "b_disp_meas_results_mc(x_samples, meas_samples)"
   ]
  }
 ],
 "metadata": {
  "kernelspec": {
   "display_name": "Python 3",
   "language": "python",
   "name": "python3"
  },
  "language_info": {
   "codemirror_mode": {
    "name": "ipython",
    "version": 3
   },
   "file_extension": ".py",
   "mimetype": "text/x-python",
   "name": "python",
   "nbconvert_exporter": "python",
   "pygments_lexer": "ipython3",
   "version": "3.9.13"
  }
 },
 "nbformat": 4,
 "nbformat_minor": 2
}
