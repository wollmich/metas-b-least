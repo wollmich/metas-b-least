{
 "cells": [
  {
   "cell_type": "markdown",
   "metadata": {},
   "source": [
    "# Example B LEAST 1\n",
    "\n",
    "Michael Wollensack METAS - 28.10.2024"
   ]
  },
  {
   "cell_type": "code",
   "execution_count": 1,
   "metadata": {},
   "outputs": [],
   "source": [
    "from metas_b_least import *"
   ]
  },
  {
   "cell_type": "markdown",
   "metadata": {},
   "source": [
    "Calibration and measurement data"
   ]
  },
  {
   "cell_type": "code",
   "execution_count": 2,
   "metadata": {},
   "outputs": [
    {
     "name": "stdout",
     "output_type": "stream",
     "text": [
      "Calibration data:\n",
      "[[4.5000e+00 4.5000e-02 1.9690e-01 3.9380e-03]\n",
      " [1.8750e+01 1.8750e-01 7.8740e-01 1.5748e-02]\n",
      " [5.0000e+01 5.0000e-01 2.0228e+00 4.0456e-02]]\n"
     ]
    }
   ],
   "source": [
    "cal_data = b_read_cal_data(os.path.join(data_dir, 'b_least_1_data_cal.txt'))\n",
    "meas_data = b_read_meas_data(os.path.join(data_dir, 'b_least_1_data_meas.txt'))\n",
    "b_disp_cal_data(cal_data)"
   ]
  },
  {
   "cell_type": "markdown",
   "metadata": {},
   "source": [
    "Fit coefficients of the fit function using the calibration data"
   ]
  },
  {
   "cell_type": "code",
   "execution_count": 3,
   "metadata": {},
   "outputs": [
    {
     "name": "stdout",
     "output_type": "stream",
     "text": [
      "Coefficients b\n",
      "[-0.35746758 24.61152086]\n",
      "Uncertainties u(b)\n",
      "[0.15711416 0.48026846]\n",
      "Covariance cov(b)\n",
      "[[ 0.02468486 -0.05686927]\n",
      " [-0.05686927  0.23065779]]\n",
      "Residual\n",
      "0.6743048567393399\n",
      "Maximum absolute value of weighted deviations\n",
      "0.6309181102471252\n"
     ]
    }
   ],
   "source": [
    "b, b_cov, b_res = b_least(cal_data, b_linear_func)\n",
    "b_disp_cal_results(b, b_cov, b_res)"
   ]
  },
  {
   "cell_type": "markdown",
   "metadata": {},
   "source": [
    "Evaluate the fit function with the coefficients at the measurement data"
   ]
  },
  {
   "cell_type": "code",
   "execution_count": 4,
   "metadata": {},
   "outputs": [
    {
     "name": "stdout",
     "output_type": "stream",
     "text": [
      "Measurement data:\n",
      "[[5.99230480e+00 1.63773208e-01 2.58000000e-01 5.16000000e-03]\n",
      " [1.44094449e+01 3.55953958e-01 6.00000000e-01 1.20000000e-02]\n",
      " [4.39432700e+01 1.16288816e+00 1.80000000e+00 3.60000000e-02]]\n",
      "Covariance cov(x)\n",
      "[[0.02682166 0.01159685 0.01476538]\n",
      " [0.01159685 0.12670322 0.13730902]\n",
      " [0.01476538 0.13730902 1.35230887]]\n"
     ]
    }
   ],
   "source": [
    "x, x_cov = b_eval(meas_data, b, b_cov, b_linear_func)\n",
    "b_disp_meas_results(x, x_cov, meas_data)"
   ]
  }
 ],
 "metadata": {
  "kernelspec": {
   "display_name": "Python 3",
   "language": "python",
   "name": "python3"
  },
  "language_info": {
   "codemirror_mode": {
    "name": "ipython",
    "version": 3
   },
   "file_extension": ".py",
   "mimetype": "text/x-python",
   "name": "python",
   "nbconvert_exporter": "python",
   "pygments_lexer": "ipython3",
   "version": "3.9.13"
  }
 },
 "nbformat": 4,
 "nbformat_minor": 2
}
