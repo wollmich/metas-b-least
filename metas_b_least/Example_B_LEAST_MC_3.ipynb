{
 "cells": [
  {
   "cell_type": "markdown",
   "metadata": {},
   "source": [
    "# Example B LEAST Monte Carlo 3\n",
    "\n",
    "Michael Wollensack METAS - 19.11.2024"
   ]
  },
  {
   "cell_type": "code",
   "execution_count": 1,
   "metadata": {},
   "outputs": [],
   "source": [
    "from metas_b_least import *"
   ]
  },
  {
   "cell_type": "markdown",
   "metadata": {},
   "source": [
    "Calibration and measurement data"
   ]
  },
  {
   "cell_type": "code",
   "execution_count": 2,
   "metadata": {},
   "outputs": [
    {
     "name": "stdout",
     "output_type": "stream",
     "text": [
      "Calibration data:\n",
      "[[1.00056294e+00 1.33448710e-03 9.63821579e+02 1.39212913e+01]\n",
      " [1.00099631e+00 1.09255953e-03 9.66356763e+02 1.25764512e+01]\n",
      " [1.99951948e+00 3.19299931e-03 1.91256101e+03 1.67330044e+01]\n",
      " [3.00180797e+00 3.38774003e-03 2.84681958e+03 1.14995845e+01]\n",
      " [3.99822271e+00 5.77796585e-03 3.75489754e+03 1.07906055e+01]\n",
      " [4.00421316e+00 5.77155689e-03 3.76489562e+03 1.19376182e+01]\n",
      " [4.99809904e+00 5.76264190e-03 4.64714714e+03 1.43965117e+01]\n",
      " [5.99593067e+00 7.70939988e-03 5.53017447e+03 1.19605780e+01]\n",
      " [7.99736685e+00 8.46657736e-03 7.24584988e+03 1.18343827e+01]\n",
      " [7.99941550e+00 1.00180264e-02 7.24057103e+03 1.07601998e+01]\n",
      " [9.99813774e+00 1.20403974e-02 8.88457873e+03 9.97204052e+00]\n",
      " [1.00059648e+01 1.05731090e-02 8.90258086e+03 1.40877890e+01]]\n"
     ]
    }
   ],
   "source": [
    "cal_data = b_read_cal_data(os.path.join(data_dir, 'b_least_3_data_cal.txt'))\n",
    "meas_data = b_read_meas_data(os.path.join(data_dir, 'b_least_3_data_meas.txt'))\n",
    "nsamples = 10000\n",
    "cal_samples = b_sample_cal_data_mc(cal_data, nsamples, seed=3)\n",
    "meas_samples = b_sample_meas_data_mc(meas_data, nsamples) \n",
    "b_disp_cal_data_mc(cal_samples)"
   ]
  },
  {
   "cell_type": "markdown",
   "metadata": {},
   "source": [
    "## Linear function"
   ]
  },
  {
   "cell_type": "markdown",
   "metadata": {},
   "source": [
    "Fit coefficients of the fit function using the calibration data"
   ]
  },
  {
   "cell_type": "code",
   "execution_count": 3,
   "metadata": {},
   "outputs": [
    {
     "name": "stdout",
     "output_type": "stream",
     "text": [
      "Coefficients b\n",
      "[-0.19277141  0.0011339 ]\n",
      "Uncertainties u(b)\n",
      "[8.97602686e-03 1.71361317e-06]\n",
      "Covariance cov(b)\n",
      "[[ 8.05690583e-05 -1.32309094e-08]\n",
      " [-1.32309094e-08  2.93647009e-12]]\n",
      "Residual\n",
      "nan\n",
      "Maximum absolute value of weighted deviations\n",
      "nan\n"
     ]
    }
   ],
   "source": [
    "b_samples_1 = b_least_mc(cal_samples, b_linear_func)\n",
    "b_disp_cal_results_mc(b_samples_1)"
   ]
  },
  {
   "cell_type": "markdown",
   "metadata": {},
   "source": [
    "Evaluate the fit function with the coefficients at the measurement data"
   ]
  },
  {
   "cell_type": "code",
   "execution_count": 4,
   "metadata": {},
   "outputs": [
    {
     "name": "stdout",
     "output_type": "stream",
     "text": [
      "Measurement data:\n",
      "[[5.42075758e+00 1.31435977e-02 4.95063949e+03 1.08243660e+01]]\n"
     ]
    }
   ],
   "source": [
    "x_samples_1 = b_eval_mc(meas_samples, b_samples_1, b_linear_func)\n",
    "b_disp_meas_results_mc(x_samples_1, meas_samples)"
   ]
  },
  {
   "cell_type": "markdown",
   "metadata": {},
   "source": [
    "## Power function"
   ]
  },
  {
   "cell_type": "markdown",
   "metadata": {},
   "source": [
    "Fit coefficients of the fit function using the calibration data"
   ]
  },
  {
   "cell_type": "code",
   "execution_count": 5,
   "metadata": {},
   "outputs": [
    {
     "name": "stdout",
     "output_type": "stream",
     "text": [
      "Coefficients b\n",
      "[0.12139476 0.0005123  0.08507254]\n",
      "Uncertainties u(b)\n",
      "[1.82712822e-02 2.43423141e-05 5.10297478e-03]\n",
      "Covariance cov(b)\n",
      "[[ 3.33839752e-04 -4.05537583e-07  8.40625166e-05]\n",
      " [-4.05537583e-07  5.92548254e-10 -1.24090003e-07]\n",
      " [ 8.40625166e-05 -1.24090003e-07  2.60403516e-05]]\n",
      "Residual\n",
      "nan\n",
      "Maximum absolute value of weighted deviations\n",
      "nan\n"
     ]
    }
   ],
   "source": [
    "b_samples_2 = b_least_mc(cal_samples, b_power_func)\n",
    "b_disp_cal_results_mc(b_samples_2)"
   ]
  },
  {
   "cell_type": "markdown",
   "metadata": {},
   "source": [
    "Evaluate the fit function with the coefficients at the measurement data"
   ]
  },
  {
   "cell_type": "code",
   "execution_count": 6,
   "metadata": {},
   "outputs": [
    {
     "name": "stdout",
     "output_type": "stream",
     "text": [
      "Measurement data:\n",
      "[[5.34555893e+00 1.40651473e-02 4.95063949e+03 1.08243660e+01]]\n"
     ]
    }
   ],
   "source": [
    "x_samples_2 = b_eval_mc(meas_samples, b_samples_2, b_power_func)\n",
    "b_disp_meas_results_mc(x_samples_2, meas_samples)"
   ]
  },
  {
   "cell_type": "markdown",
   "metadata": {},
   "source": [
    "## Exponential function"
   ]
  },
  {
   "cell_type": "markdown",
   "metadata": {},
   "source": [
    "Fit coefficients of the fit function using the calibration data"
   ]
  },
  {
   "cell_type": "code",
   "execution_count": 7,
   "metadata": {},
   "outputs": [
    {
     "name": "stdout",
     "output_type": "stream",
     "text": [
      "Coefficients b\n",
      "[-4.80918811e+01  4.80975970e+01  2.13092291e-05]\n",
      "Uncertainties u(b)\n",
      "[3.22752085e+00 3.21631788e+00 1.27784834e-06]\n",
      "Covariance cov(b)\n",
      "[[ 1.04168908e+01 -1.03807004e+01  4.10822932e-06]\n",
      " [-1.03807004e+01  1.03447007e+01 -4.09406438e-06]\n",
      " [ 4.10822932e-06 -4.09406438e-06  1.63289637e-12]]\n",
      "Residual\n",
      "nan\n",
      "Maximum absolute value of weighted deviations\n",
      "nan\n"
     ]
    }
   ],
   "source": [
    "b_samples_3 = b_least_mc(cal_samples, b_exp_func)\n",
    "b_disp_cal_results_mc(b_samples_3)"
   ]
  },
  {
   "cell_type": "markdown",
   "metadata": {},
   "source": [
    "Evaluate the fit function with the coefficients at the measurement data"
   ]
  },
  {
   "cell_type": "code",
   "execution_count": 8,
   "metadata": {},
   "outputs": [
    {
     "name": "stdout",
     "output_type": "stream",
     "text": [
      "Measurement data:\n",
      "[[5.33560043e+00 1.41444536e-02 4.95063949e+03 1.08243660e+01]]\n"
     ]
    }
   ],
   "source": [
    "x_samples_3 = b_eval_mc(meas_samples, b_samples_3, b_exp_func)\n",
    "b_disp_meas_results_mc(x_samples_3, meas_samples)"
   ]
  }
 ],
 "metadata": {
  "kernelspec": {
   "display_name": "Python 3",
   "language": "python",
   "name": "python3"
  },
  "language_info": {
   "codemirror_mode": {
    "name": "ipython",
    "version": 3
   },
   "file_extension": ".py",
   "mimetype": "text/x-python",
   "name": "python",
   "nbconvert_exporter": "python",
   "pygments_lexer": "ipython3",
   "version": "3.9.13"
  }
 },
 "nbformat": 4,
 "nbformat_minor": 2
}
