{
 "cells": [
  {
   "cell_type": "markdown",
   "metadata": {},
   "source": [
    "# Example B LEAST 2\n",
    "\n",
    "Michael Wollensack METAS - 25.10.2024"
   ]
  },
  {
   "cell_type": "code",
   "execution_count": 1,
   "metadata": {},
   "outputs": [],
   "source": [
    "from metas_b_least import *"
   ]
  },
  {
   "cell_type": "markdown",
   "metadata": {},
   "source": [
    "Calibration and measurement data"
   ]
  },
  {
   "cell_type": "code",
   "execution_count": 2,
   "metadata": {},
   "outputs": [
    {
     "name": "stdout",
     "output_type": "stream",
     "text": [
      "Calibration data:\n",
      "[[1.500e-03 9.000e-04 6.000e+01 3.500e+01]\n",
      " [1.888e-01 4.500e-04 7.786e+03 1.357e+02]\n",
      " [1.990e+00 4.000e-03 8.170e+04 3.670e+01]\n",
      " [3.796e+00 3.900e-02 1.562e+05 2.232e+02]\n",
      " [5.677e+00 1.250e-02 2.333e+05 1.372e+02]\n",
      " [7.118e+00 1.250e-02 2.930e+05 2.455e+02]\n",
      " [9.210e+00 2.000e-02 3.806e+05 1.251e+02]\n",
      " [1.090e+01 2.500e-02 4.497e+05 3.218e+02]]\n"
     ]
    }
   ],
   "source": [
    "cal_data = b_read_cal_data('data/b_least_2_data_cal.txt')\n",
    "meas_data = b_read_meas_data('data/b_least_2_data_meas.txt')\n",
    "b_disp_cal_data(cal_data)"
   ]
  },
  {
   "cell_type": "markdown",
   "metadata": {},
   "source": [
    "## Linear function"
   ]
  },
  {
   "cell_type": "markdown",
   "metadata": {},
   "source": [
    "Fit coefficients of the fit function using the calibration data"
   ]
  },
  {
   "cell_type": "code",
   "execution_count": 3,
   "metadata": {},
   "outputs": [
    {
     "name": "stdout",
     "output_type": "stream",
     "text": [
      "Coefficients b\n",
      "[3.98100244e-04 2.42850337e-05]\n",
      "Uncertainties u(b)\n",
      "[1.14594139e-03 2.41634414e-08]\n",
      "Covariance cov(b)\n",
      "[[ 1.31318167e-06 -7.28980338e-12]\n",
      " [-7.28980338e-12  5.83871902e-16]]\n",
      "Residual\n",
      "6.044452180401301\n",
      "Maximum absolute value of weighted deviations\n",
      "1.6452236737745\n"
     ]
    }
   ],
   "source": [
    "b1, b1_cov, b1_res = b_least(cal_data, b_linear_func)\n",
    "b_disp_cal_results(b1, b1_cov, b1_res)"
   ]
  },
  {
   "cell_type": "markdown",
   "metadata": {},
   "source": [
    "Evaluate the fit function with the coefficients at the measurement data"
   ]
  },
  {
   "cell_type": "code",
   "execution_count": 4,
   "metadata": {},
   "outputs": [
    {
     "name": "stdout",
     "output_type": "stream",
     "text": [
      "Measurement data:\n",
      "[[1.70035046e+00 2.02415466e-03 7.00000000e+04 4.00000000e+01]\n",
      " [8.98586058e+00 9.97202613e-03 3.70000000e+05 2.00000000e+02]]\n",
      "Covariance cov(x)\n",
      "[[4.09720210e-06 1.32279505e-05]\n",
      " [1.32279505e-05 9.94413051e-05]]\n"
     ]
    }
   ],
   "source": [
    "x1, x1_cov = b_eval(meas_data, b1, b1_cov, b_linear_func)\n",
    "b_disp_meas_results(x1, x1_cov, meas_data)"
   ]
  },
  {
   "cell_type": "markdown",
   "metadata": {},
   "source": [
    "## Second order polynomial"
   ]
  },
  {
   "cell_type": "markdown",
   "metadata": {},
   "source": [
    "Fit coefficients of the fit function using the calibration data"
   ]
  },
  {
   "cell_type": "code",
   "execution_count": 5,
   "metadata": {},
   "outputs": [
    {
     "name": "stdout",
     "output_type": "stream",
     "text": [
      "Coefficients b\n",
      "[-1.31100258e-04  2.44010742e-05 -4.08653105e-13]\n",
      "Uncertainties u(b)\n",
      "[1.17483731e-03 5.90001597e-08 1.89514926e-13]\n",
      "Covariance cov(b)\n",
      "[[ 1.38024271e-06 -2.05827484e-11  4.67043525e-17]\n",
      " [-2.05827484e-11  3.48101885e-15 -1.02012666e-20]\n",
      " [ 4.67043525e-17 -1.02012666e-20  3.59159073e-26]]\n",
      "Residual\n",
      "1.3963782577580943\n",
      "Maximum absolute value of weighted deviations\n",
      "0.8761962275003496\n"
     ]
    }
   ],
   "source": [
    "b2, b2_cov, b2_res = b_least(cal_data, b_second_order_poly)\n",
    "b_disp_cal_results(b2, b2_cov, b2_res)"
   ]
  },
  {
   "cell_type": "markdown",
   "metadata": {},
   "source": [
    "Evaluate the fit function with the coefficients at the measurement data"
   ]
  },
  {
   "cell_type": "code",
   "execution_count": 6,
   "metadata": {},
   "outputs": [
    {
     "name": "stdout",
     "output_type": "stream",
     "text": [
      "Measurement data:\n",
      "[[1.70594170e+00 3.29026182e-03 7.00000000e+04 4.00000000e+01]\n",
      " [8.97232176e+00 1.17639445e-02 3.70000000e+05 2.00000000e+02]]\n",
      "Covariance cov(x)\n",
      "[[ 1.08258228e-05 -3.05598589e-06]\n",
      " [-3.05598589e-06  1.38390389e-04]]\n"
     ]
    }
   ],
   "source": [
    "x2, x2_cov = b_eval(meas_data, b2, b2_cov, b_second_order_poly)\n",
    "b_disp_meas_results(x2, x2_cov, meas_data)"
   ]
  }
 ],
 "metadata": {
  "kernelspec": {
   "display_name": "Python 3",
   "language": "python",
   "name": "python3"
  },
  "language_info": {
   "codemirror_mode": {
    "name": "ipython",
    "version": 3
   },
   "file_extension": ".py",
   "mimetype": "text/x-python",
   "name": "python",
   "nbconvert_exporter": "python",
   "pygments_lexer": "ipython3",
   "version": "3.9.13"
  }
 },
 "nbformat": 4,
 "nbformat_minor": 2
}
