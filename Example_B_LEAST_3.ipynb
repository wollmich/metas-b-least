{
 "cells": [
  {
   "cell_type": "markdown",
   "metadata": {},
   "source": [
    "# Example B LEAST 3\n",
    "\n",
    "Michael Wollensack METAS - 25.10.2024"
   ]
  },
  {
   "cell_type": "code",
   "execution_count": 1,
   "metadata": {},
   "outputs": [],
   "source": [
    "from metas_b_least import *"
   ]
  },
  {
   "cell_type": "markdown",
   "metadata": {},
   "source": [
    "Calibration and measurement data"
   ]
  },
  {
   "cell_type": "code",
   "execution_count": 2,
   "metadata": {},
   "outputs": [
    {
     "name": "stdout",
     "output_type": "stream",
     "text": [
      "Calibration data:\n",
      "[[1.0006000e+00 1.3400000e-03 9.6379880e+02 1.4000000e+01]\n",
      " [1.0010000e+00 1.1000000e-03 9.6625850e+02 1.2500000e+01]\n",
      " [1.9995000e+00 3.2000000e-03 1.9125692e+03 1.6800000e+01]\n",
      " [3.0018000e+00 3.4000000e-03 2.8469306e+03 1.1600000e+01]\n",
      " [3.9982000e+00 5.8000000e-03 3.7549386e+03 1.0800000e+01]\n",
      " [4.0043000e+00 5.8000000e-03 3.7645905e+03 1.2100000e+01]\n",
      " [4.9981000e+00 5.8000000e-03 4.6471511e+03 1.4400000e+01]\n",
      " [5.9961000e+00 7.8000000e-03 5.5299991e+03 1.2100000e+01]\n",
      " [7.9974000e+00 8.4000000e-03 7.2460082e+03 1.1900000e+01]\n",
      " [7.9995000e+00 1.0000000e-02 7.2404767e+03 1.0700000e+01]\n",
      " [9.9980000e+00 1.2000000e-02 8.8846955e+03 1.0100000e+01]\n",
      " [1.0006000e+01 1.0400000e-02 8.9026916e+03 1.4100000e+01]]\n"
     ]
    }
   ],
   "source": [
    "cal_data = b_read_cal_data('data/b_least_3_data_cal.txt')\n",
    "meas_data = b_read_meas_data('data/b_least_3_data_meas.txt')\n",
    "b_disp_cal_data(cal_data)"
   ]
  },
  {
   "cell_type": "markdown",
   "metadata": {},
   "source": [
    "## Linear function"
   ]
  },
  {
   "cell_type": "markdown",
   "metadata": {},
   "source": [
    "Fit coefficients of the fit function using the calibration data"
   ]
  },
  {
   "cell_type": "code",
   "execution_count": 3,
   "metadata": {},
   "outputs": [
    {
     "name": "stdout",
     "output_type": "stream",
     "text": [
      "Coefficients b\n",
      "[-0.19205537  0.00113384]\n",
      "Uncertainties u(b)\n",
      "[8.97754923e-03 1.72258021e-06]\n",
      "Covariance cov(b)\n",
      "[[ 8.05963901e-05 -1.33488599e-08]\n",
      " [-1.33488599e-08  2.96728259e-12]]\n",
      "Residual\n",
      "272.6391499362598\n",
      "Maximum absolute value of weighted deviations\n",
      "7.007023128623973\n"
     ]
    }
   ],
   "source": [
    "b1, b1_cov, b1_res = b_least(cal_data, b_linear_func)\n",
    "b_disp_cal_results(b1, b1_cov, b1_res)"
   ]
  },
  {
   "cell_type": "markdown",
   "metadata": {},
   "source": [
    "Evaluate the fit function with the coefficients at the measurement data"
   ]
  },
  {
   "cell_type": "code",
   "execution_count": 4,
   "metadata": {},
   "outputs": [
    {
     "name": "stdout",
     "output_type": "stream",
     "text": [
      "Measurement data:\n",
      "[[5.42113493e+00 1.32931188e-02 4.95060000e+03 1.10000000e+01]]\n"
     ]
    }
   ],
   "source": [
    "x1, x1_cov = b_eval(meas_data, b1, b1_cov, b_linear_func)\n",
    "b_disp_meas_results(x1, x1_cov,meas_data)"
   ]
  },
  {
   "cell_type": "markdown",
   "metadata": {},
   "source": [
    "## Power function"
   ]
  },
  {
   "cell_type": "markdown",
   "metadata": {},
   "source": [
    "Fit coefficients of the fit function using the calibration data"
   ]
  },
  {
   "cell_type": "code",
   "execution_count": 5,
   "metadata": {},
   "outputs": [
    {
     "name": "stdout",
     "output_type": "stream",
     "text": [
      "Coefficients b\n",
      "[0.12130894 0.0005121  0.08499126]\n",
      "Uncertainties u(b)\n",
      "[1.83563537e-02 2.44910268e-05 5.14121848e-03]\n",
      "Covariance cov(b)\n",
      "[[ 3.36955720e-04 -4.09945132e-07  8.50450185e-05]\n",
      " [-4.09945132e-07  5.99810394e-10 -1.25853513e-07]\n",
      " [ 8.50450185e-05 -1.25853513e-07  2.64321275e-05]]\n",
      "Residual\n",
      "8.38077905870908\n",
      "Maximum absolute value of weighted deviations\n",
      "1.3503191780207655\n"
     ]
    }
   ],
   "source": [
    "b2, b2_cov, b2_res = b_least(cal_data, b_power_func)\n",
    "b_disp_cal_results(b2, b2_cov, b2_res)"
   ]
  },
  {
   "cell_type": "markdown",
   "metadata": {},
   "source": [
    "Evaluate the fit function with the coefficients at the measurement data"
   ]
  },
  {
   "cell_type": "code",
   "execution_count": 6,
   "metadata": {},
   "outputs": [
    {
     "name": "stdout",
     "output_type": "stream",
     "text": [
      "Measurement data:\n",
      "[[5.34559972e+00 1.41895590e-02 4.95060000e+03 1.10000000e+01]]\n"
     ]
    }
   ],
   "source": [
    "x2, x2_cov = b_eval(meas_data, b2, b2_cov, b_power_func)\n",
    "b_disp_meas_results(x2, x2_cov, meas_data)"
   ]
  },
  {
   "cell_type": "markdown",
   "metadata": {},
   "source": [
    "## Exponential function"
   ]
  },
  {
   "cell_type": "markdown",
   "metadata": {},
   "source": [
    "Fit coefficients of the fit function using the calibration data"
   ]
  },
  {
   "cell_type": "code",
   "execution_count": 7,
   "metadata": {},
   "outputs": [
    {
     "name": "stdout",
     "output_type": "stream",
     "text": [
      "Coefficients b\n",
      "[-4.79624355e+01  4.79680953e+01  2.12832891e-05]\n",
      "Uncertainties u(b)\n",
      "[3.18215721e+00 3.17103959e+00 1.27409693e-06]\n",
      "Covariance cov(b)\n",
      "[[ 1.01261245e+01 -1.00907139e+01  4.05310956e-06]\n",
      " [-1.00907139e+01  1.00554921e+01 -4.03915785e-06]\n",
      " [ 4.05310956e-06 -4.03915785e-06  1.62332300e-12]]\n",
      "Residual\n",
      "0.657232669954064\n",
      "Maximum absolute value of weighted deviations\n",
      "0.43216174802755286\n"
     ]
    }
   ],
   "source": [
    "b3, b3_cov, b3_res = b_least(cal_data, b_exp_func)\n",
    "b_disp_cal_results(b3, b3_cov, b3_res)"
   ]
  },
  {
   "cell_type": "markdown",
   "metadata": {},
   "source": [
    "Evaluate the fit function with the coefficients at the measurement data"
   ]
  },
  {
   "cell_type": "code",
   "execution_count": 8,
   "metadata": {},
   "outputs": [
    {
     "name": "stdout",
     "output_type": "stream",
     "text": [
      "Measurement data:\n",
      "[[5.33568993e+00 1.42468179e-02 4.95060000e+03 1.10000000e+01]]\n"
     ]
    }
   ],
   "source": [
    "x3, x3_cov = b_eval(meas_data, b3, b3_cov, b_exp_func)\n",
    "b_disp_meas_results(x3, x3_cov, meas_data)"
   ]
  }
 ],
 "metadata": {
  "kernelspec": {
   "display_name": "Python 3",
   "language": "python",
   "name": "python3"
  },
  "language_info": {
   "codemirror_mode": {
    "name": "ipython",
    "version": 3
   },
   "file_extension": ".py",
   "mimetype": "text/x-python",
   "name": "python",
   "nbconvert_exporter": "python",
   "pygments_lexer": "ipython3",
   "version": "3.9.13"
  }
 },
 "nbformat": 4,
 "nbformat_minor": 2
}
